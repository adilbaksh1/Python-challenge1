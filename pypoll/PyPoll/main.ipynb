{
 "cells": [
  {
   "cell_type": "code",
   "execution_count": 2,
   "id": "9f12acd1-2119-4929-9142-0978efa1ea4c",
   "metadata": {},
   "outputs": [],
   "source": [
    "import pandas as pd\n",
    "election_data = pd.read_csv(\"Resources/election_data.csv\")"
   ]
  },
  {
   "cell_type": "code",
   "execution_count": 3,
   "id": "c2de68ee-27fd-4bdf-bf99-5cc7b74b739c",
   "metadata": {},
   "outputs": [
    {
     "name": "stdout",
     "output_type": "stream",
     "text": [
      "   Ballot ID     County                Candidate\n",
      "0    1323913  Jefferson  Charles Casper Stockham\n",
      "1    1005842  Jefferson  Charles Casper Stockham\n",
      "2    1880345  Jefferson  Charles Casper Stockham\n",
      "3    1600337  Jefferson  Charles Casper Stockham\n",
      "4    1835994  Jefferson  Charles Casper Stockham\n"
     ]
    }
   ],
   "source": [
    "print(election_data.head())"
   ]
  },
  {
   "cell_type": "code",
   "execution_count": 5,
   "id": "0c124c69-b9d6-4cd4-be39-7ead64504c74",
   "metadata": {},
   "outputs": [],
   "source": [
    "total_votes = election_data[\"Ballot ID\"].nunique() \n",
    "candidate_votes = election_data[\"Candidate\"].value_counts()\n",
    "candidate_percentages = (candidate_votes / total_votes) * 100\n",
    "winner = candidate_votes.idxmax()  \n"
   ]
  },
  {
   "cell_type": "code",
   "execution_count": 6,
   "id": "b4ecd157-8ed8-4ebf-a78c-0fad681b11f5",
   "metadata": {},
   "outputs": [
    {
     "name": "stdout",
     "output_type": "stream",
     "text": [
      "Election Results\n",
      "-------------------------\n",
      "Total Votes: 369711\n",
      "-------------------------\n",
      "Diana DeGette: 272892 votes (73.812%)\n",
      "Charles Casper Stockham: 85213 votes (23.049%)\n",
      "Raymon Anthony Doane: 11606 votes (3.139%)\n",
      "-------------------------\n",
      "Winner: Diana DeGette\n"
     ]
    }
   ],
   "source": [
    "print(\"Election Results\")\n",
    "print(\"-------------------------\")\n",
    "print(f\"Total Votes: {total_votes}\")\n",
    "print(\"-------------------------\")\n",
    "for candidate, votes in candidate_votes.items():\n",
    "    print(f\"{candidate}: {votes} votes ({candidate_percentages[candidate]:.3f}%)\")\n",
    "print(\"-------------------------\")\n",
    "print(f\"Winner: {winner}\")\n"
   ]
  },
  {
   "cell_type": "code",
   "execution_count": 7,
   "id": "1d64436a-b456-42e3-9c5f-fc9fbb5c27c4",
   "metadata": {},
   "outputs": [],
   "source": [
    "with open(\"election_results.txt\", \"w\") as f:\n",
    "    f.write(\"Election Results\\n\")\n",
    "    f.write(\"-------------------------\\n\")\n",
    "    f.write(f\"Total Votes: {total_votes}\\n\")\n",
    "    f.write(\"-------------------------\\n\")\n",
    "    for candidate, votes in candidate_votes.items():\n",
    "        f.write(f\"{candidate}: {votes} votes ({candidate_percentages[candidate]:.3f}%)\\n\")\n",
    "    f.write(\"-------------------------\\n\")\n",
    "    f.write(f\"Winner: {winner}\\n\")\n"
   ]
  },
  {
   "cell_type": "code",
   "execution_count": null,
   "id": "04f0a37f-f6a2-49d2-9ba6-0d3b7a4ca459",
   "metadata": {},
   "outputs": [],
   "source": []
  }
 ],
 "metadata": {
  "kernelspec": {
   "display_name": "Python 3 (ipykernel)",
   "language": "python",
   "name": "python3"
  },
  "language_info": {
   "codemirror_mode": {
    "name": "ipython",
    "version": 3
   },
   "file_extension": ".py",
   "mimetype": "text/x-python",
   "name": "python",
   "nbconvert_exporter": "python",
   "pygments_lexer": "ipython3",
   "version": "3.12.5"
  }
 },
 "nbformat": 4,
 "nbformat_minor": 5
}
