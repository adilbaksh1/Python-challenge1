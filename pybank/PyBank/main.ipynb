{
 "cells": [
  {
   "cell_type": "code",
   "execution_count": 3,
   "id": "619a4719-b726-43f1-a1aa-3ff83291ebf3",
   "metadata": {},
   "outputs": [],
   "source": [
    "import pandas as pd\n",
    "budget_data = pd.read_csv(\"Resources/budget_data.csv\")\n"
   ]
  },
  {
   "cell_type": "code",
   "execution_count": 4,
   "id": "98314c94-6042-480d-bdc4-074e93cc454b",
   "metadata": {},
   "outputs": [
    {
     "name": "stdout",
     "output_type": "stream",
     "text": [
      "     Date  Profit/Losses\n",
      "0  Jan-10        1088983\n",
      "1  Feb-10        -354534\n",
      "2  Mar-10         276622\n",
      "3  Apr-10        -728133\n",
      "4  May-10         852993\n"
     ]
    }
   ],
   "source": [
    "print(budget_data.head())"
   ]
  },
  {
   "cell_type": "code",
   "execution_count": 5,
   "id": "8266fbb8-335f-489c-aa04-7e9c52ad9a82",
   "metadata": {},
   "outputs": [],
   "source": [
    "total_months = budget_data[\"Date\"].nunique()\n",
    "total_profit_loss = budget_data[\"Profit/Losses\"].sum()\n",
    "budget_data[\"Change\"] = budget_data[\"Profit/Losses\"].diff()\n",
    "average_change = budget_data[\"Change\"].mean()\n",
    "greatest_increase = budget_data.loc[budget_data[\"Change\"].idxmax()]\n",
    "greatest_decrease = budget_data.loc[budget_data[\"Change\"].idxmin()]\n"
   ]
  },
  {
   "cell_type": "code",
   "execution_count": 6,
   "id": "de8e64c5-f2ba-44db-b27b-12ff44f86c16",
   "metadata": {},
   "outputs": [
    {
     "name": "stdout",
     "output_type": "stream",
     "text": [
      "Financial Analysis\n",
      "----------------------------\n",
      "Total Months: 86\n",
      "Total: $22564198\n",
      "Average Change: $-8311.11\n",
      "Greatest Increase in Profits: Aug-16 ($1862002.00)\n",
      "Greatest Decrease in Profits: Feb-14 ($-1825558.00)\n"
     ]
    }
   ],
   "source": [
    "print(\"Financial Analysis\")\n",
    "print(\"----------------------------\")\n",
    "print(f\"Total Months: {total_months}\")\n",
    "print(f\"Total: ${total_profit_loss}\")\n",
    "print(f\"Average Change: ${average_change:.2f}\")\n",
    "print(f\"Greatest Increase in Profits: {greatest_increase['Date']} (${greatest_increase['Change']:.2f})\")\n",
    "print(f\"Greatest Decrease in Profits: {greatest_decrease['Date']} (${greatest_decrease['Change']:.2f})\")\n"
   ]
  },
  {
   "cell_type": "code",
   "execution_count": 7,
   "id": "5f8540bd-ab19-43f2-919e-31e9c31de232",
   "metadata": {},
   "outputs": [],
   "source": [
    "with open(\"financial_analysis.txt\", \"w\") as f:\n",
    "    f.write(\"Financial Analysis\\n\")\n",
    "    f.write(\"----------------------------\\n\")\n",
    "    f.write(f\"Total Months: {total_months}\\n\")\n",
    "    f.write(f\"Total: ${total_profit_loss}\\n\")\n",
    "    f.write(f\"Average Change: ${average_change:.2f}\\n\")\n",
    "    f.write(f\"Greatest Increase in Profits: {greatest_increase['Date']} (${greatest_increase['Change']:.2f})\\n\")\n",
    "    f.write(f\"Greatest Decrease in Profits: {greatest_decrease['Date']} (${greatest_decrease['Change']:.2f})\\n\")\n"
   ]
  }
 ],
 "metadata": {
  "kernelspec": {
   "display_name": "Python 3 (ipykernel)",
   "language": "python",
   "name": "python3"
  },
  "language_info": {
   "codemirror_mode": {
    "name": "ipython",
    "version": 3
   },
   "file_extension": ".py",
   "mimetype": "text/x-python",
   "name": "python",
   "nbconvert_exporter": "python",
   "pygments_lexer": "ipython3",
   "version": "3.12.5"
  }
 },
 "nbformat": 4,
 "nbformat_minor": 5
}
